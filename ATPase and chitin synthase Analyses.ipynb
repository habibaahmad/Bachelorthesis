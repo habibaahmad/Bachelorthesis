{
 "cells": [
  {
   "cell_type": "code",
   "execution_count": 1,
   "metadata": {},
   "outputs": [
    {
     "name": "stderr",
     "output_type": "stream",
     "text": [
      "'' is not a valid SBML 'SId'.\n"
     ]
    },
    {
     "data": {
      "text/html": [
       "\n",
       "        <table>\n",
       "            <tr>\n",
       "                <td><strong>Name</strong></td>\n",
       "                <td></td>\n",
       "            </tr><tr>\n",
       "                <td><strong>Memory address</strong></td>\n",
       "                <td>0x07f44be601d30</td>\n",
       "            </tr><tr>\n",
       "                <td><strong>Number of metabolites</strong></td>\n",
       "                <td>2332</td>\n",
       "            </tr><tr>\n",
       "                <td><strong>Number of reactions</strong></td>\n",
       "                <td>3394</td>\n",
       "            </tr><tr>\n",
       "                <td><strong>Number of groups</strong></td>\n",
       "                <td>0</td>\n",
       "            </tr><tr>\n",
       "                <td><strong>Objective expression</strong></td>\n",
       "                <td>1.0*BIOMASS - 1.0*BIOMASS_reverse_69053</td>\n",
       "            </tr><tr>\n",
       "                <td><strong>Compartments</strong></td>\n",
       "                <td>CYTOSOL, PERIPLASM, EXTRACELLULAR</td>\n",
       "            </tr>\n",
       "          </table>"
      ],
      "text/plain": [
       "<Model  at 0x7f44be601d30>"
      ]
     },
     "execution_count": 1,
     "metadata": {},
     "output_type": "execute_result"
    }
   ],
   "source": [
    "import cobra\n",
    "import numpy as np\n",
    "import pandas as panda\n",
    "import matplotlib.pyplot as plt\n",
    "model = cobra.io.read_sbml_model('/home/student/Downloads/new_thecaphora.xml')\n",
    "model.reactions.BIOMASS.objective_coefficient=1\n",
    "model"
   ]
  },
  {
   "cell_type": "code",
   "execution_count": 2,
   "metadata": {},
   "outputs": [
    {
     "data": {
      "text/html": [
       "<strong><em>Optimal</em> solution with objective value 0.520</strong><br><div>\n",
       "<style scoped>\n",
       "    .dataframe tbody tr th:only-of-type {\n",
       "        vertical-align: middle;\n",
       "    }\n",
       "\n",
       "    .dataframe tbody tr th {\n",
       "        vertical-align: top;\n",
       "    }\n",
       "\n",
       "    .dataframe thead th {\n",
       "        text-align: right;\n",
       "    }\n",
       "</style>\n",
       "<table border=\"1\" class=\"dataframe\">\n",
       "  <thead>\n",
       "    <tr style=\"text-align: right;\">\n",
       "      <th></th>\n",
       "      <th>fluxes</th>\n",
       "      <th>reduced_costs</th>\n",
       "    </tr>\n",
       "  </thead>\n",
       "  <tbody>\n",
       "    <tr>\n",
       "      <th>1-PHOSPHATIDYLINOSITOL-KINASE-RXN__var__0_c</th>\n",
       "      <td>0.0</td>\n",
       "      <td>-1.733059e-02</td>\n",
       "    </tr>\n",
       "    <tr>\n",
       "      <th>1.1.1.127-RXN_c</th>\n",
       "      <td>0.0</td>\n",
       "      <td>3.642919e-17</td>\n",
       "    </tr>\n",
       "    <tr>\n",
       "      <th>1.1.1.178-RXN_c</th>\n",
       "      <td>0.0</td>\n",
       "      <td>1.561251e-17</td>\n",
       "    </tr>\n",
       "    <tr>\n",
       "      <th>1.1.1.190-RXN_c</th>\n",
       "      <td>0.0</td>\n",
       "      <td>-1.733059e-02</td>\n",
       "    </tr>\n",
       "    <tr>\n",
       "      <th>1.1.1.210-RXN_c</th>\n",
       "      <td>0.0</td>\n",
       "      <td>1.561251e-17</td>\n",
       "    </tr>\n",
       "    <tr>\n",
       "      <th>...</th>\n",
       "      <td>...</td>\n",
       "      <td>...</td>\n",
       "    </tr>\n",
       "    <tr>\n",
       "      <th>TR_P-AMINO-BENZOATE_c_e</th>\n",
       "      <td>0.0</td>\n",
       "      <td>0.000000e+00</td>\n",
       "    </tr>\n",
       "    <tr>\n",
       "      <th>EX_P-AMINO-BENZOATE_e</th>\n",
       "      <td>0.0</td>\n",
       "      <td>0.000000e+00</td>\n",
       "    </tr>\n",
       "    <tr>\n",
       "      <th>TR_4-AMINO-4-DEOXYCHORISMATE_c_e</th>\n",
       "      <td>0.0</td>\n",
       "      <td>-0.000000e+00</td>\n",
       "    </tr>\n",
       "    <tr>\n",
       "      <th>EX_4-AMINO-4-DEOXYCHORISMATE_e</th>\n",
       "      <td>0.0</td>\n",
       "      <td>-2.599588e-02</td>\n",
       "    </tr>\n",
       "    <tr>\n",
       "      <th>CHITIN-SYN</th>\n",
       "      <td>0.0</td>\n",
       "      <td>-1.733059e-02</td>\n",
       "    </tr>\n",
       "  </tbody>\n",
       "</table>\n",
       "<p>3394 rows × 2 columns</p>\n",
       "</div>"
      ],
      "text/plain": [
       "<Solution 0.520 at 0x7f44bd764f70>"
      ]
     },
     "execution_count": 2,
     "metadata": {},
     "output_type": "execute_result"
    }
   ],
   "source": [
    "model.optimize()"
   ]
  },
  {
   "cell_type": "code",
   "execution_count": 3,
   "metadata": {},
   "outputs": [
    {
     "data": {
      "text/html": [
       "\n",
       "        <table>\n",
       "            <tr>\n",
       "                <td><strong>Reaction identifier</strong></td><td>ATPase</td>\n",
       "            </tr><tr>\n",
       "                <td><strong>Name</strong></td><td></td>\n",
       "            </tr><tr>\n",
       "                <td><strong>Memory address</strong></td>\n",
       "                <td>0x07f44bdfe5ee0</td>\n",
       "            </tr><tr>\n",
       "                <td><strong>Stoichiometry</strong></td>\n",
       "                <td>\n",
       "                    <p style='text-align:right'>ATP_c + WATER_c --> ADP_c + PROTON_c + Pi_c</p>\n",
       "                    <p style='text-align:right'>+ --> + +</p>\n",
       "                </td>\n",
       "            </tr><tr>\n",
       "                <td><strong>GPR</strong></td><td></td>\n",
       "            </tr><tr>\n",
       "                <td><strong>Lower bound</strong></td><td>0.0</td>\n",
       "            </tr><tr>\n",
       "                <td><strong>Upper bound</strong></td><td>1000.0</td>\n",
       "            </tr>\n",
       "        </table>\n",
       "        "
      ],
      "text/plain": [
       "<Reaction ATPase at 0x7f44bdfe5ee0>"
      ]
     },
     "execution_count": 3,
     "metadata": {},
     "output_type": "execute_result"
    }
   ],
   "source": [
    "model.reactions.ATPase"
   ]
  },
  {
   "cell_type": "code",
   "execution_count": 4,
   "metadata": {
    "scrolled": false
   },
   "outputs": [
    {
     "name": "stdout",
     "output_type": "stream",
     "text": [
      "[ 0.          0.60606061  1.21212121  1.81818182  2.42424242  3.03030303\n",
      "  3.63636364  4.24242424  4.84848485  5.45454545  6.06060606  6.66666667\n",
      "  7.27272727  7.87878788  8.48484848  9.09090909  9.6969697  10.3030303\n",
      " 10.90909091 11.51515152 12.12121212 12.72727273 13.33333333 13.93939394\n",
      " 14.54545455 15.15151515 15.75757576 16.36363636 16.96969697 17.57575758\n",
      " 18.18181818 18.78787879 19.39393939 20.         20.60606061 21.21212121\n",
      " 21.81818182 22.42424242 23.03030303 23.63636364 24.24242424 24.84848485\n",
      " 25.45454545 26.06060606 26.66666667 27.27272727 27.87878788 28.48484848\n",
      " 29.09090909 29.6969697  30.3030303  30.90909091 31.51515152 32.12121212\n",
      " 32.72727273 33.33333333 33.93939394 34.54545455 35.15151515 35.75757576\n",
      " 36.36363636 36.96969697 37.57575758 38.18181818 38.78787879 39.39393939\n",
      " 40.         40.60606061 41.21212121 41.81818182 42.42424242 43.03030303\n",
      " 43.63636364 44.24242424 44.84848485 45.45454545 46.06060606 46.66666667\n",
      " 47.27272727 47.87878788 48.48484848 49.09090909 49.6969697  50.3030303\n",
      " 50.90909091 51.51515152 52.12121212 52.72727273 53.33333333 53.93939394\n",
      " 54.54545455 55.15151515 55.75757576 56.36363636 56.96969697 57.57575758\n",
      " 58.18181818 58.78787879 59.39393939 60.        ]\n",
      "0.5199176284102954\n",
      "0.5146659351940297\n",
      "0.5094142419777636\n",
      "0.5041625487614979\n",
      "0.4989108555452322\n",
      "0.4936591623289666\n",
      "0.48840746911269767\n",
      "0.4831557758964364\n",
      "0.4779040826801676\n",
      "0.4726523894639046\n",
      "0.46740069624763897\n",
      "0.46214900303137035\n",
      "0.45689730981510773\n",
      "0.4516456165988435\n",
      "0.446393923382576\n",
      "0.44114223016630866\n",
      "0.4358905369500447\n",
      "0.43063884373377886\n",
      "0.42538715051751413\n",
      "0.42013545730124674\n",
      "0.4148837640849799\n",
      "0.4096320708687151\n",
      "0.40438037765245105\n",
      "0.3991286844361853\n",
      "0.39387699121991837\n",
      "0.38862529800365403\n",
      "0.38337360478738824\n",
      "0.37812191157112146\n",
      "0.37287021835485573\n",
      "0.3676185251385907\n",
      "0.3623668319223237\n",
      "0.35711513870606004\n",
      "0.3518634454897951\n",
      "0.3466117522735276\n",
      "0.3413600590572637\n",
      "0.3361083658409962\n",
      "0.33085667262473056\n",
      "0.32560497940846744\n",
      "0.3203532861921989\n",
      "0.3151015929759345\n",
      "0.3098498997596692\n",
      "0.30459820654340214\n",
      "0.299346513327137\n",
      "0.2940948201108742\n",
      "0.2888431268946054\n",
      "0.2835914336783396\n",
      "0.27833974046207505\n",
      "0.27308804724580543\n",
      "0.26783635402954525\n",
      "0.26258466081327625\n",
      "0.257332967597013\n",
      "0.25208127438074457\n",
      "0.24682958116448214\n",
      "0.2415778879482161\n",
      "0.23632619473194985\n",
      "0.23107450151568143\n",
      "0.22582280829941623\n",
      "0.2205711150831515\n",
      "0.21531942186688263\n",
      "0.21006772865062198\n",
      "0.20481603543435506\n",
      "0.1995643422180915\n",
      "0.19431264900182407\n",
      "0.1890609557855593\n",
      "0.18380926256929578\n",
      "0.17855756935302824\n",
      "0.17330587613676318\n",
      "0.16805418292049387\n",
      "0.16280248970423086\n",
      "0.1575507964879653\n",
      "0.15229910327169963\n",
      "0.14704741005543304\n",
      "0.14179571683916758\n",
      "0.13654402362290122\n",
      "0.13129233040663818\n",
      "0.12604063719037098\n",
      "0.12078894397410506\n",
      "0.11553725075784234\n",
      "0.11028555754157332\n",
      "0.10503386432531096\n",
      "0.09978217110904479\n",
      "0.09453047789277738\n",
      "0.08927878467651132\n",
      "0.08402709146024546\n",
      "0.07877539824398132\n",
      "0.07352370502771433\n",
      "0.06827201181145015\n",
      "0.06302031859518571\n",
      "0.057768625378918706\n",
      "0.052516932162650985\n",
      "0.04726523894639001\n",
      "0.042013545730119485\n",
      "0.036761852513853534\n",
      "0.03151015929759234\n",
      "0.02625846608131913\n",
      "0.02100677286506047\n",
      "0.015755079648790783\n",
      "0.010503386432527677\n",
      "0.005251693216259118\n",
      "-5.342620196487242e-15\n",
      "-0.008665293807413106\n"
     ]
    }
   ],
   "source": [
    "lower_bound_liste = np.linspace(0,60,100)\n",
    "print(lower_bound_liste)\n",
    "for i in lower_bound_liste:\n",
    "    model.reactions.__getattr__('ATPase').lower_bound = i\n",
    "    model.optimize()\n",
    "    print(model.reactions.BIOMASS.flux)\n",
    "model.reactions.__getattr__('ATPase').lower_bound=0  \n",
    "m = (0.005251693216259118-0.5199176284102954)/59.39393939\n",
    "print(m)\n",
    "\n"
   ]
  },
  {
   "cell_type": "code",
   "execution_count": 5,
   "metadata": {},
   "outputs": [
    {
     "name": "stdout",
     "output_type": "stream",
     "text": [
      "[0.         0.06060606 0.12121212 0.18181818 0.24242424 0.3030303\n",
      " 0.36363636 0.42424242 0.48484848 0.54545455 0.60606061 0.66666667\n",
      " 0.72727273 0.78787879 0.84848485 0.90909091 0.96969697 1.03030303\n",
      " 1.09090909 1.15151515 1.21212121 1.27272727 1.33333333 1.39393939\n",
      " 1.45454545 1.51515152 1.57575758 1.63636364 1.6969697  1.75757576\n",
      " 1.81818182 1.87878788 1.93939394 2.         2.06060606 2.12121212\n",
      " 2.18181818 2.24242424 2.3030303  2.36363636 2.42424242 2.48484848\n",
      " 2.54545455 2.60606061 2.66666667 2.72727273 2.78787879 2.84848485\n",
      " 2.90909091 2.96969697 3.03030303 3.09090909 3.15151515 3.21212121\n",
      " 3.27272727 3.33333333 3.39393939 3.45454545 3.51515152 3.57575758\n",
      " 3.63636364 3.6969697  3.75757576 3.81818182 3.87878788 3.93939394\n",
      " 4.         4.06060606 4.12121212 4.18181818 4.24242424 4.3030303\n",
      " 4.36363636 4.42424242 4.48484848 4.54545455 4.60606061 4.66666667\n",
      " 4.72727273 4.78787879 4.84848485 4.90909091 4.96969697 5.03030303\n",
      " 5.09090909 5.15151515 5.21212121 5.27272727 5.33333333 5.39393939\n",
      " 5.45454545 5.51515152 5.57575758 5.63636364 5.6969697  5.75757576\n",
      " 5.81818182 5.87878788 5.93939394 6.        ]\n",
      "0.5199176284102954\n",
      "0.5146659351940304\n",
      "0.5094142419777643\n",
      "0.5041625487614989\n",
      "0.4989108555452316\n",
      "0.49365916232896634\n",
      "0.48840746911270133\n",
      "0.48315577589643566\n",
      "0.4779040826801699\n",
      "0.4726523894639031\n",
      "0.4674006962476396\n",
      "0.4621490030313723\n",
      "0.4568973098151065\n",
      "0.45164561659884106\n",
      "0.4463939233825779\n",
      "0.44114223016630866\n",
      "0.435890536950043\n",
      "0.4306388437337786\n",
      "0.42538715051751497\n",
      "0.4201354573012496\n",
      "0.4148837640849826\n",
      "0.4096320708687173\n",
      "0.40438037765244944\n",
      "0.3991286844361851\n",
      "0.3938769912199194\n",
      "0.3886252980036552\n",
      "0.3833736047873897\n",
      "0.3781219115711223\n",
      "0.3728702183548573\n",
      "0.36761852513859317\n",
      "0.36236683192232605\n",
      "0.35711513870606104\n",
      "0.3518634454897936\n",
      "0.346611752273527\n",
      "0.3413600590572622\n",
      "0.33610836584099785\n",
      "0.33085667262473223\n",
      "0.325604979408466\n",
      "0.32035328619219927\n",
      "0.3151015929759345\n",
      "0.30984989975967003\n",
      "0.3045982065434057\n",
      "0.29934651332713985\n",
      "0.29409482011087124\n",
      "0.2888431268946072\n",
      "0.28359143367834083\n",
      "0.2783397404620753\n",
      "0.2730880472458108\n",
      "0.2678363540295435\n",
      "0.26258466081327997\n",
      "0.2573329675970134\n",
      "0.2520812743807467\n",
      "0.24682958116448275\n",
      "0.2415778879482151\n",
      "0.236326194731948\n",
      "0.231074501515686\n",
      "0.2258228082994206\n",
      "0.2205711150831552\n",
      "0.21531942186688868\n",
      "0.2100677286506224\n",
      "0.2048160354343541\n",
      "0.19956434221809163\n",
      "0.19431264900182674\n",
      "0.18906095578556142\n",
      "0.18380926256929456\n",
      "0.17855756935302783\n",
      "0.1733058761367642\n",
      "0.16805418292049995\n",
      "0.16280248970423358\n",
      "0.1575507964879649\n",
      "0.15229910327170218\n",
      "0.14704741005543528\n",
      "0.14179571683917058\n",
      "0.1365440236229047\n",
      "0.13129233040663937\n",
      "0.12604063719037312\n",
      "0.12078894397410714\n",
      "0.11553725075784112\n",
      "0.11028555754157747\n",
      "0.10503386432531076\n",
      "0.09978217110904249\n",
      "0.09453047789277869\n",
      "0.08927878467651511\n",
      "0.08402709146024985\n",
      "0.0787753982439831\n",
      "0.07352370502771635\n",
      "0.06827201181144879\n",
      "0.0630203185951848\n",
      "0.057768625378921336\n",
      "0.05251693216265392\n",
      "0.04726523894638895\n",
      "0.04201354573012268\n",
      "0.036761852513858904\n",
      "0.031510159297594785\n",
      "0.026258466081325715\n",
      "0.021006772865059455\n",
      "0.015755079648793833\n",
      "0.010503386432528756\n",
      "0.005251693216264879\n",
      "-1.7310466383508845e-15\n",
      "-0.08665293805954184\n"
     ]
    }
   ],
   "source": [
    "lower_bound_liste1 = np.linspace(0,6,100)\n",
    "print(lower_bound_liste1)\n",
    "for i in lower_bound_liste1:\n",
    "    model.reactions.__getattr__('CHITIN-SYN').lower_bound = i\n",
    "    model.optimize()\n",
    "    print(model.reactions.BIOMASS.flux)\n",
    "model.reactions.__getattr__('CHITIN-SYN').lower_bound=0\n",
    "m=(0.0052516932162614965-0.5199176284102998)/5.93939394\n",
    "print(m)"
   ]
  },
  {
   "cell_type": "code",
   "execution_count": 6,
   "metadata": {},
   "outputs": [],
   "source": [
    "xs1 = lower_bound_liste1\n",
    "ys1 = []\n",
    "for i in xs1:\n",
    "    model.reactions.__getattr__('CHITIN-SYN').lower_bound = i\n",
    "    model.optimize()\n",
    "    y1 = model.reactions.BIOMASS.flux\n",
    "    ys1.append(y1)\n",
    "model.reactions.__getattr__('CHITIN-SYN').lower_bound=0\n"
   ]
  },
  {
   "cell_type": "code",
   "execution_count": 7,
   "metadata": {},
   "outputs": [],
   "source": [
    "xs = lower_bound_liste\n",
    "ys = []\n",
    "for i in xs:\n",
    "    model.reactions.__getattr__('ATPase').lower_bound = i\n",
    "    model.optimize()\n",
    "    #y = model.reactions.__getattr__('ATPSYN-RXN_c_p').flux\n",
    "    y = model.reactions.BIOMASS.flux\n",
    "    ys.append(y)\n",
    "model.reactions.__getattr__('ATPase').lower_bound=0\n",
    "\n",
    "\n"
   ]
  },
  {
   "cell_type": "code",
   "execution_count": 8,
   "metadata": {},
   "outputs": [
    {
     "data": {
      "image/png": "[encoded data removed]",
      "text/plain": [
       "<Figure size 576x288 with 2 Axes>"
      ]
     },
     "metadata": {
      "needs_background": "light"
     },
     "output_type": "display_data"
    }
   ],
   "source": [
    "plt.figure(figsize=(8,4),edgecolor='blue')\n",
    "\n",
    "plt.subplot(121)\n",
    "#new_xs=xs*-1\n",
    "#plt.title('Flux of biomass synthesis in dependence on ATPase and chitin synthase', fontsize=15)\n",
    "plt.plot(xs,ys,label= 'gradient: -0.0087 ')\n",
    "plt.legend(loc='upper center')\n",
    "plt.xlabel(r'ATPase rate [$\\frac{mmol }{g_{DW} h}$]', fontsize=11)\n",
    "plt.ylabel(r'Flux of biomass [$\\frac{mmol }{g_{DW} h}$]' , fontsize=11)\n",
    "\n",
    "\n",
    "plt.subplot(122) \n",
    "#plt.title('Flux of biomass synthesis in dependence on ATPase and chitin synthase',  fontsize=8)\n",
    "plt.plot(xs1,ys1,label='gradient: -0.0867')\n",
    "plt.legend(loc='upper center')\n",
    "plt.xlabel(r'Chitin synthase rate [$\\frac{mmol }{g_{DW} h}$]', fontsize=11)\n",
    "#plt.xlim(0,60)\n",
    "\n",
    "#plt.ylabel(r'Flux of biomass [$\\frac{mmol }{g_{DW} h}$]', fontsize=14)\n",
    "plt.suptitle('Flux of biomass synthesis in dependence on ATPase and chitin synthase', fontsize=13)\n",
    "plt.savefig('/home/student/Documents/bachelorarbeit/thesis/Flux of biomass synthesis in dependence on ATPase and chitin synthase.pdf', bbox_inches=\"tight\")\n",
    "plt.show()"
   ]
  },
  {
   "cell_type": "code",
   "execution_count": 9,
   "metadata": {},
   "outputs": [
    {
     "data": {
      "text/html": [
       "<div>\n",
       "<style scoped>\n",
       "    .dataframe tbody tr th:only-of-type {\n",
       "        vertical-align: middle;\n",
       "    }\n",
       "\n",
       "    .dataframe tbody tr th {\n",
       "        vertical-align: top;\n",
       "    }\n",
       "\n",
       "    .dataframe thead th {\n",
       "        text-align: right;\n",
       "    }\n",
       "</style>\n",
       "<table border=\"1\" class=\"dataframe\">\n",
       "  <thead>\n",
       "    <tr style=\"text-align: right;\">\n",
       "      <th></th>\n",
       "      <th>minimum</th>\n",
       "      <th>maximum</th>\n",
       "    </tr>\n",
       "  </thead>\n",
       "  <tbody>\n",
       "    <tr>\n",
       "      <th>1-PHOSPHATIDYLINOSITOL-KINASE-RXN__var__0_c</th>\n",
       "      <td>0.0</td>\n",
       "      <td>6.787990e-13</td>\n",
       "    </tr>\n",
       "    <tr>\n",
       "      <th>1.1.1.127-RXN_c</th>\n",
       "      <td>0.0</td>\n",
       "      <td>0.000000e+00</td>\n",
       "    </tr>\n",
       "    <tr>\n",
       "      <th>1.1.1.178-RXN_c</th>\n",
       "      <td>0.0</td>\n",
       "      <td>0.000000e+00</td>\n",
       "    </tr>\n",
       "    <tr>\n",
       "      <th>1.1.1.190-RXN_c</th>\n",
       "      <td>0.0</td>\n",
       "      <td>6.666165e-13</td>\n",
       "    </tr>\n",
       "    <tr>\n",
       "      <th>1.1.1.210-RXN_c</th>\n",
       "      <td>0.0</td>\n",
       "      <td>0.000000e+00</td>\n",
       "    </tr>\n",
       "  </tbody>\n",
       "</table>\n",
       "</div>"
      ],
      "text/plain": [
       "                                             minimum       maximum\n",
       "1-PHOSPHATIDYLINOSITOL-KINASE-RXN__var__0_c      0.0  6.787990e-13\n",
       "1.1.1.127-RXN_c                                  0.0  0.000000e+00\n",
       "1.1.1.178-RXN_c                                  0.0  0.000000e+00\n",
       "1.1.1.190-RXN_c                                  0.0  6.666165e-13\n",
       "1.1.1.210-RXN_c                                  0.0  0.000000e+00"
      ]
     },
     "execution_count": 9,
     "metadata": {},
     "output_type": "execute_result"
    }
   ],
   "source": [
    "model.reactions.__getattr__('ATPase').lower_bound= 60\n",
    "model.reactions.__getattr__('CHITIN-SYN').lower_bound= 0\n",
    "model.optimize()\n",
    "fva=cobra.flux_analysis.flux_variability_analysis(model, model.reactions[:3394])\n",
    "fva.head()"
   ]
  },
  {
   "cell_type": "code",
   "execution_count": 10,
   "metadata": {},
   "outputs": [
    {
     "name": "stdout",
     "output_type": "stream",
     "text": [
      "                        names3  minimum3  maximum3\n",
      "0           2PGADEHYDRAT-RXN_c      20.0      20.0\n",
      "1            6PFRUCTPHOS-RXN_c      10.0      10.0\n",
      "2               ATPSYN-RXN_c_p     -40.0     -40.0\n",
      "3            F16ALDOLASE-RXN_c      10.0      10.0\n",
      "4   HOMOCITRATE-SYNTHASE-RXN_c      20.0      20.0\n",
      "5         KETOGLUTREDUCT-RXN_c      20.0      20.0\n",
      "6              PEPDEPHOS-RXN_c      20.0      20.0\n",
      "7            PHOSGLYPHOS-RXN_c     -20.0     -20.0\n",
      "8               PYRUVDEH-RXN_c      20.0      20.0\n",
      "9                  RXN-15513_c     -20.0     -20.0\n",
      "10                 RXN-21282_c      20.0      20.0\n",
      "11  TRIOSEPISOMERIZATION-RXN_c     -10.0     -10.0\n",
      "12      RXN1YI0-15__var__0_c_p      40.0      40.0\n",
      "13                  RXN-7970_c      20.0      20.0\n",
      "14                 RXN-13722_c      20.0      20.0\n",
      "15                      ATPase      60.0      60.0\n",
      "16        TR_ALPHA-GLUCOSE_c_e     -10.0     -10.0\n",
      "17      TR_OXYGEN-MOLECULE_c_e     -60.0     -60.0\n",
      "18          EX_ALPHA-GLUCOSE_e     -10.0     -10.0\n",
      "19        EX_OXYGEN-MOLECULE_e     -60.0     -60.0\n"
     ]
    },
    {
     "data": {
      "text/plain": [
       "20"
      ]
     },
     "execution_count": 10,
     "metadata": {},
     "output_type": "execute_result"
    }
   ],
   "source": [
    "eps= 2\n",
    "namesN=list(fva.index)\n",
    "minN=np.array(list(fva['minimum']))\n",
    "maxN=np.array(list(fva['maximum']))\n",
    "n=len(namesN)\n",
    "#filtere Null Intervalle\n",
    "names3=[]\n",
    "minimum3=[]\n",
    "maximum3=[]\n",
    "\n",
    "for i in range(n):\n",
    "    #if abs(minN[i]-maxN[i])>eps:\n",
    "    if abs(minN[i])>eps and abs(maxN[i])>eps:\n",
    "        if abs(maxN[i])<990 and abs(minN[i])<990:\n",
    "          \n",
    "    # if abs(minM[i])>eps:\n",
    "            names3.append(namesN[i])\n",
    "            minimum3.append(minN[i])\n",
    "            maximum3.append(maxN[i])\n",
    "\n",
    "\n",
    "d= panda.DataFrame()\n",
    "d['names3']= names3\n",
    "d['minimum3']= minimum3\n",
    "d['maximum3']= maximum3\n",
    "print(d)\n",
    "len(names3)"
   ]
  },
  {
   "cell_type": "code",
   "execution_count": 11,
   "metadata": {},
   "outputs": [
    {
     "name": "stdout",
     "output_type": "stream",
     "text": [
      "                        names1   minimum1   maximum1\n",
      "0           2PGADEHYDRAT-RXN_c  18.236227  18.236227\n",
      "1            6PFRUCTPHOS-RXN_c   9.176261   9.176261\n",
      "2               ATPSYN-RXN_c_p -24.522163 -24.522163\n",
      "3            F16ALDOLASE-RXN_c   9.176261   9.176261\n",
      "4   HOMOCITRATE-SYNTHASE-RXN_c  11.356001  11.356001\n",
      "5         KETOGLUTREDUCT-RXN_c  11.182635  11.182635\n",
      "6              PEPDEPHOS-RXN_c  17.852270  17.852270\n",
      "7            PHOSGLYPHOS-RXN_c -18.236227 -18.236227\n",
      "8   PYRUVATE-CARBOXYLASE-RXN_c   2.582978   2.582978\n",
      "9               PYRUVDEH-RXN_c  13.733676  13.733676\n",
      "10                 RXN-15513_c -18.236227 -18.236227\n",
      "11                 RXN-21282_c  11.182635  11.182635\n",
      "12  TRIOSEPISOMERIZATION-RXN_c  -9.127238  -9.127238\n",
      "13      RXN1YI0-15__var__0_c_p  24.522163  24.522163\n",
      "14                  RXN-7970_c  11.356001  11.356001\n",
      "15                 RXN0-5224_c -37.242879  -2.872754\n",
      "16                 RXN-13722_c  11.356001  11.356001\n",
      "17        TR_ALPHA-GLUCOSE_c_e -10.000000 -10.000000\n",
      "19      TR_OXYGEN-MOLECULE_c_e -35.753822 -35.729310\n",
      "20          EX_ALPHA-GLUCOSE_e -10.000000 -10.000000\n",
      "22        EX_OXYGEN-MOLECULE_e -35.753822 -35.729310\n",
      "23                     EX_Pi_e  -4.834487  -4.834487\n"
     ]
    },
    {
     "data": {
      "text/plain": [
       "24"
      ]
     },
     "execution_count": 11,
     "metadata": {},
     "output_type": "execute_result"
    }
   ],
   "source": [
    "model.reactions.__getattr__('ATPase').lower_bound= 0\n",
    "model.reactions.__getattr__('CHITIN-SYN').lower_bound= 0\n",
    "model.optimize()\n",
    "fva=cobra.flux_analysis.flux_variability_analysis(model, model.reactions[:3394])\n",
    "fva.head()\n",
    "#model.optimize()\n",
    "\n",
    "eps= 2\n",
    "namesN=list(fva.index)\n",
    "minN=np.array(list(fva['minimum']))\n",
    "maxN=np.array(list(fva['maximum']))\n",
    "n=len(namesN)\n",
    "#filtere Null Intervalle\n",
    "names1=[]\n",
    "minimum1=[]\n",
    "maximum1=[]\n",
    "\n",
    "for i in range(n):\n",
    "    #if abs(minN[i]-maxN[i])>eps:\n",
    "    if abs(minN[i])>eps and abs(maxN[i])>eps:\n",
    "        if abs(maxN[i])<990 and abs(minN[i])<990:\n",
    "          \n",
    "    # if abs(minM[i])>eps:\n",
    "            names1.append(namesN[i])\n",
    "            minimum1.append(minN[i])\n",
    "            maximum1.append(maxN[i])\n",
    "\n",
    "\n",
    "df1= panda.DataFrame()\n",
    "df1['names1']= names1\n",
    "df1['minimum1']= minimum1\n",
    "df1['maximum1']= maximum1\n",
    "df1 = df1[df1['names1']!='TR_WATER_c_e']\n",
    "df1 = df1[df1['names1']!='EX_WATER_e']\n",
    "print(df1)\n",
    "\n",
    "len(names1)"
   ]
  },
  {
   "cell_type": "code",
   "execution_count": 12,
   "metadata": {},
   "outputs": [
    {
     "name": "stdout",
     "output_type": "stream",
     "text": [
      "                                      names4  minimum4  maximum4\n",
      "0                         2PGADEHYDRAT-RXN_c       8.0       8.0\n",
      "1                          6PFRUCTPHOS-RXN_c       4.0       4.0\n",
      "2                             ATPSYN-RXN_c_p     -10.0     -10.0\n",
      "3                          F16ALDOLASE-RXN_c       4.0       4.0\n",
      "4                         GLUTAMINESYN-RXN_c       6.0       6.0\n",
      "5   L-GLN-FRUCT-6-P-AMINOTRANS-RXN__var__0_c       6.0       6.0\n",
      "6                            PEPDEPHOS-RXN_c       8.0       8.0\n",
      "7                          PHOSGLYPHOS-RXN_c      -8.0      -8.0\n",
      "8                             PYRUVDEH-RXN_c       8.0       8.0\n",
      "9                                RXN-15513_c      -8.0      -8.0\n",
      "10                TRIOSEPISOMERIZATION-RXN_c      -4.0      -4.0\n",
      "11                              UDPKIN-RXN_c       6.0       6.0\n",
      "12                    RXN1YI0-15__var__0_c_p      10.0      10.0\n",
      "13                               RXN-13722_c       2.0       2.0\n",
      "14                      TR_ALPHA-GLUCOSE_c_e     -10.0     -10.0\n",
      "16                    TR_OXYGEN-MOLECULE_c_e     -12.0     -12.0\n",
      "17                        EX_ALPHA-GLUCOSE_e     -10.0     -10.0\n",
      "19                      EX_OXYGEN-MOLECULE_e     -12.0     -12.0\n",
      "20                                   EX_Pi_e      -6.0      -6.0\n",
      "21                                CHITIN-SYN       6.0       6.0\n"
     ]
    },
    {
     "data": {
      "text/plain": [
       "22"
      ]
     },
     "execution_count": 12,
     "metadata": {},
     "output_type": "execute_result"
    }
   ],
   "source": [
    "model.reactions.__getattr__('ATPase').lower_bound= 0\n",
    "model.reactions.__getattr__('CHITIN-SYN').lower_bound= 6\n",
    "model.optimize()\n",
    "fva=cobra.flux_analysis.flux_variability_analysis(model, model.reactions[:3394])\n",
    "fva.head()\n",
    "model.reactions.__getattr__('CHITIN-SYN').lower_bound= 6\n",
    "model.optimize()\n",
    "\n",
    "eps= 2\n",
    "namesN=list(fva.index)\n",
    "minN=np.array(list(fva['minimum']))\n",
    "maxN=np.array(list(fva['maximum']))\n",
    "n=len(namesN)\n",
    "#filtere Null Intervalle\n",
    "names4=[]\n",
    "minimum4=[]\n",
    "maximum4=[]\n",
    "\n",
    "for i in range(n):\n",
    "    #if abs(minN[i]-maxN[i])>eps:\n",
    "    if abs(minN[i])>eps and abs(maxN[i])>eps:\n",
    "        if abs(maxN[i])<990 and abs(minN[i])<990:\n",
    "          \n",
    "    # if abs(minM[i])>eps:\n",
    "            names4.append(namesN[i])\n",
    "            minimum4.append(minN[i])\n",
    "            maximum4.append(maxN[i])\n",
    "\n",
    "\n",
    "df4= panda.DataFrame()\n",
    "df4['names4']= names4\n",
    "df4['minimum4']= minimum4\n",
    "df4['maximum4']= maximum4\n",
    "df4 = df4[df4['names4']!='TR_WATER_c_e']\n",
    "df4 = df4[df4['names4']!='EX_WATER_e']\n",
    "print(df4)\n",
    "\n",
    "len(names4)"
   ]
  },
  {
   "cell_type": "code",
   "execution_count": 13,
   "metadata": {},
   "outputs": [
    {
     "data": {
      "image/png": "[encoded data removed]",
      "text/plain": [
       "<Figure size 432x576 with 3 Axes>"
      ]
     },
     "metadata": {
      "needs_background": "light"
     },
     "output_type": "display_data"
    }
   ],
   "source": [
    "import matplotlib.pyplot as plt\n",
    "\n",
    "plt.figure(figsize=(6,8),edgecolor='blue')\n",
    "\n",
    "plt.subplot(311)\n",
    "plt.ylim(-70,70)\n",
    "\n",
    "plt.scatter(x='names1',y='minimum1',data=df1,color='r',marker='_')\n",
    "plt.scatter(x='names1',y='maximum1',data=df1,color='r',marker='_')\n",
    "plt.vlines(x='names1',ymin='minimum1',ymax='maximum1',data=df1,color='y')\n",
    "plt.title('First FVA: Essential fluxes', fontsize=13)\n",
    "#plt.xlabel('Reaktionsnamen')\n",
    "plt.ylabel(r'Flux-Variability [$\\frac{mmol }{g_{DW} h}$]', fontsize=10.5)\n",
    "plt.setp(plt.gca(),'xticklabels',[])\n",
    "\n",
    "\n",
    "plt.subplot(313)\n",
    "plt.ylim(-70,70)\n",
    "plt.scatter(x='names3',y='minimum3',data=d,color='r',marker='_')\n",
    "plt.scatter(x='names3',y='maximum3',data=d,color='r',marker='_')\n",
    "plt.vlines(x='names3',ymin='minimum3',ymax='maximum3',data=d,color='y')\n",
    "plt.title('Third FVA: Essential fluxes with ATPase', fontsize=13)\n",
    "plt.xlabel('Reactions', fontsize=13)\n",
    "plt.ylabel(r'Flux-Variability [$\\frac{mmol }{g_{DW} h}$]', fontsize=11)\n",
    "plt.setp(plt.gca(),'xticklabels',[])\n",
    "\n",
    "plt.subplot(312)\n",
    "plt.ylim(-70,70)\n",
    "plt.scatter(x='names4',y='minimum4',data=df4,color='r',marker='_')\n",
    "plt.scatter(x='names4',y='maximum4',data=df4,color='r',marker='_')\n",
    "plt.vlines(x='names4',ymin='minimum4',ymax='maximum4',data=df4,color='y')\n",
    "plt.title('Second FVA: Essential fluxes with chitin synthase', fontsize=13)\n",
    "#plt.xlabel('Reactions')\n",
    "plt.ylabel(r'Flux-Variability[$\\frac{mmol }{g_{DW} h}$]', fontsize=11)\n",
    "plt.suptitle(' Different Flux Variability Analyses', fontsize=14)\n",
    "plt.setp(plt.gca(),'xticklabels',[])\n",
    "plt.savefig('/home/student/Documents/bachelorarbeit/thesis/FVA of essential FLux with and without ATPase.pdf', bbox_inches=\"tight\")\n",
    "plt.show()"
   ]
  },
  {
   "cell_type": "code",
   "execution_count": 14,
   "metadata": {},
   "outputs": [
    {
     "name": "stdout",
     "output_type": "stream",
     "text": [
      "ATPase\n"
     ]
    }
   ],
   "source": [
    "for i in names3:\n",
    "    if i not in names1:\n",
    "        print(i)"
   ]
  },
  {
   "cell_type": "code",
   "execution_count": 15,
   "metadata": {},
   "outputs": [
    {
     "name": "stdout",
     "output_type": "stream",
     "text": [
      "HOMOCITRATE-SYNTHASE-RXN_c\n",
      "KETOGLUTREDUCT-RXN_c\n",
      "PYRUVATE-CARBOXYLASE-RXN_c\n",
      "RXN-21282_c\n",
      "RXN-7970_c\n",
      "RXN0-5224_c\n"
     ]
    }
   ],
   "source": [
    "for i in names1:\n",
    "    if i not in names4:\n",
    "        print(i)"
   ]
  },
  {
   "cell_type": "code",
   "execution_count": 16,
   "metadata": {},
   "outputs": [
    {
     "name": "stdout",
     "output_type": "stream",
     "text": [
      "GLUTAMINESYN-RXN_c\n",
      "L-GLN-FRUCT-6-P-AMINOTRANS-RXN__var__0_c\n",
      "UDPKIN-RXN_c\n",
      "CHITIN-SYN\n"
     ]
    }
   ],
   "source": [
    "for i in names4:\n",
    "    if i not in names1:\n",
    "        print(i)"
   ]
  }
 ],
 "metadata": {
  "kernelspec": {
   "display_name": "Python 3",
   "language": "python",
   "name": "python3"
  },
  "language_info": {
   "codemirror_mode": {
    "name": "ipython",
    "version": 3
   },
   "file_extension": ".py",
   "mimetype": "text/x-python",
   "name": "python",
   "nbconvert_exporter": "python",
   "pygments_lexer": "ipython3",
   "version": "3.8.10"
  }
 },
 "nbformat": 4,
 "nbformat_minor": 4
}
