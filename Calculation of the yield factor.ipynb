{
 "cells": [
  {
   "cell_type": "code",
   "execution_count": 1,
   "metadata": {
    "scrolled": true
   },
   "outputs": [
    {
     "name": "stderr",
     "output_type": "stream",
     "text": [
      "'' is not a valid SBML 'SId'.\n"
     ]
    },
    {
     "data": {
      "text/html": [
       "<strong><em>Optimal</em> solution with objective value 0.520</strong><br><div>\n",
       "<style scoped>\n",
       "    .dataframe tbody tr th:only-of-type {\n",
       "        vertical-align: middle;\n",
       "    }\n",
       "\n",
       "    .dataframe tbody tr th {\n",
       "        vertical-align: top;\n",
       "    }\n",
       "\n",
       "    .dataframe thead th {\n",
       "        text-align: right;\n",
       "    }\n",
       "</style>\n",
       "<table border=\"1\" class=\"dataframe\">\n",
       "  <thead>\n",
       "    <tr style=\"text-align: right;\">\n",
       "      <th></th>\n",
       "      <th>fluxes</th>\n",
       "      <th>reduced_costs</th>\n",
       "    </tr>\n",
       "  </thead>\n",
       "  <tbody>\n",
       "    <tr>\n",
       "      <th>1-PHOSPHATIDYLINOSITOL-KINASE-RXN__var__0_c</th>\n",
       "      <td>0.0</td>\n",
       "      <td>-1.733059e-02</td>\n",
       "    </tr>\n",
       "    <tr>\n",
       "      <th>1.1.1.127-RXN_c</th>\n",
       "      <td>0.0</td>\n",
       "      <td>3.642919e-17</td>\n",
       "    </tr>\n",
       "    <tr>\n",
       "      <th>1.1.1.178-RXN_c</th>\n",
       "      <td>0.0</td>\n",
       "      <td>1.561251e-17</td>\n",
       "    </tr>\n",
       "    <tr>\n",
       "      <th>1.1.1.190-RXN_c</th>\n",
       "      <td>0.0</td>\n",
       "      <td>-1.733059e-02</td>\n",
       "    </tr>\n",
       "    <tr>\n",
       "      <th>1.1.1.210-RXN_c</th>\n",
       "      <td>0.0</td>\n",
       "      <td>1.561251e-17</td>\n",
       "    </tr>\n",
       "    <tr>\n",
       "      <th>...</th>\n",
       "      <td>...</td>\n",
       "      <td>...</td>\n",
       "    </tr>\n",
       "    <tr>\n",
       "      <th>TR_P-AMINO-BENZOATE_c_e</th>\n",
       "      <td>0.0</td>\n",
       "      <td>0.000000e+00</td>\n",
       "    </tr>\n",
       "    <tr>\n",
       "      <th>EX_P-AMINO-BENZOATE_e</th>\n",
       "      <td>0.0</td>\n",
       "      <td>0.000000e+00</td>\n",
       "    </tr>\n",
       "    <tr>\n",
       "      <th>TR_4-AMINO-4-DEOXYCHORISMATE_c_e</th>\n",
       "      <td>0.0</td>\n",
       "      <td>-0.000000e+00</td>\n",
       "    </tr>\n",
       "    <tr>\n",
       "      <th>EX_4-AMINO-4-DEOXYCHORISMATE_e</th>\n",
       "      <td>0.0</td>\n",
       "      <td>-2.599588e-02</td>\n",
       "    </tr>\n",
       "    <tr>\n",
       "      <th>CHITIN-SYN</th>\n",
       "      <td>0.0</td>\n",
       "      <td>-1.733059e-02</td>\n",
       "    </tr>\n",
       "  </tbody>\n",
       "</table>\n",
       "<p>3394 rows × 2 columns</p>\n",
       "</div>"
      ],
      "text/plain": [
       "<Solution 0.520 at 0x7fe2c535a2e0>"
      ]
     },
     "execution_count": 1,
     "metadata": {},
     "output_type": "execute_result"
    }
   ],
   "source": [
    "import cobra\n",
    "import numpy as np\n",
    "import pandas as panda\n",
    "import matplotlib.pyplot as plt\n",
    "model = cobra.io.read_sbml_model('/home/student/Downloads/new_thecaphora.xml')\n",
    "model.reactions.BIOMASS.objective_coefficient=1\n",
    "model.optimize()"
   ]
  },
  {
   "cell_type": "code",
   "execution_count": 2,
   "metadata": {
    "scrolled": true
   },
   "outputs": [
    {
     "name": "stdout",
     "output_type": "stream",
     "text": [
      "BIOMASS: 0.000279 ACETYL-COA_c + 0.28742 ARG_c + 0.234232 ASN_c + 54.119975 ATP_c + 0.129799 CTP_c + 0.088988 CYS_c + 0.255712 GLN_c + 0.255712 GLT_c + 0.595297 GLY_c + 0.209121 GTP_c + 0.092056 HIS_c + 0.282306 ILE_c + 0.499149 L-ALPHA-ALANINE_c + 0.234232 L-ASPARTATE_c + 0.437778 LEU_c + 0.333448 LYS_c + 3.1e-05 MALONYL-COA_c + 0.149336 MET_c + 0.000335 NADPH_c + 0.000112 NADP_c + 0.001787 NAD_c + 0.180021 PHE_c + 0.214798 PRO_c + 0.209684 SER_c + 0.246506 THR_c + 0.055234 TRP_c + 0.133993 TYR_c + 0.140101 UTP_c + 0.411184 VAL_c + 48.752916 WATER_c --> 53.95 ADP_c + 51.472 PROTON_c + 53.945874 Pi_c\n"
     ]
    }
   ],
   "source": [
    "biomass = model.reactions.__getattr__('BIOMASS')\n",
    "print(biomass)"
   ]
  },
  {
   "cell_type": "code",
   "execution_count": 3,
   "metadata": {},
   "outputs": [
    {
     "data": {
      "text/plain": [
       "{<Metabolite TRP_c at 0x7fe2c62f5580>: -0.055234,\n",
       " <Metabolite GLT_c at 0x7fe2c62949d0>: -0.255712,\n",
       " <Metabolite MALONYL-COA_c at 0x7fe2c632fe20>: -3.1e-05,\n",
       " <Metabolite GTP_c at 0x7fe2c6320f10>: -0.209121,\n",
       " <Metabolite NADP_c at 0x7fe2c6294c40>: -0.000112,\n",
       " <Metabolite WATER_c at 0x7fe2c6294eb0>: -48.752916,\n",
       " <Metabolite LEU_c at 0x7fe2c63051c0>: -0.437778,\n",
       " <Metabolite ASN_c at 0x7fe2c62ca3d0>: -0.234232,\n",
       " <Metabolite L-ASPARTATE_c at 0x7fe2c6294b80>: -0.234232,\n",
       " <Metabolite L-ALPHA-ALANINE_c at 0x7fe2c62f5e80>: -0.499149,\n",
       " <Metabolite ARG_c at 0x7fe2c6305c70>: -0.28742,\n",
       " <Metabolite TYR_c at 0x7fe2c6377820>: -0.133993,\n",
       " <Metabolite THR_c at 0x7fe2c6377b20>: -0.246506,\n",
       " <Metabolite CTP_c at 0x7fe2c6313550>: -0.129799,\n",
       " <Metabolite SER_c at 0x7fe2c62caee0>: -0.209684,\n",
       " <Metabolite ATP_c at 0x7fe2c6294790>: -54.119975,\n",
       " <Metabolite GLN_c at 0x7fe2c6294370>: -0.255712,\n",
       " <Metabolite MET_c at 0x7fe2c62940d0>: -0.149336,\n",
       " <Metabolite LYS_c at 0x7fe2c62942b0>: -0.333448,\n",
       " <Metabolite ACETYL-COA_c at 0x7fe2c6285df0>: -0.000279,\n",
       " <Metabolite CYS_c at 0x7fe2c6365c10>: -0.088988,\n",
       " <Metabolite HIS_c at 0x7fe2c6377c40>: -0.092056,\n",
       " <Metabolite VAL_c at 0x7fe2c6377f40>: -0.411184,\n",
       " <Metabolite UTP_c at 0x7fe2c62ca4f0>: -0.140101,\n",
       " <Metabolite ILE_c at 0x7fe2c636d6a0>: -0.282306,\n",
       " <Metabolite NADPH_c at 0x7fe2c6294dc0>: -0.000335,\n",
       " <Metabolite NAD_c at 0x7fe2c6294d00>: -0.001787,\n",
       " <Metabolite PRO_c at 0x7fe2c6294640>: -0.214798,\n",
       " <Metabolite PHE_c at 0x7fe2c6320f70>: -0.180021,\n",
       " <Metabolite GLY_c at 0x7fe2c6320730>: -0.595297,\n",
       " <Metabolite Pi_c at 0x7fe2c6285ee0>: 53.945874,\n",
       " <Metabolite PROTON_c at 0x7fe2c6294fa0>: 51.472,\n",
       " <Metabolite ADP_c at 0x7fe2c62947f0>: 53.95}"
      ]
     },
     "execution_count": 3,
     "metadata": {},
     "output_type": "execute_result"
    }
   ],
   "source": [
    "biomass.metabolites"
   ]
  },
  {
   "cell_type": "code",
   "execution_count": 4,
   "metadata": {
    "scrolled": true
   },
   "outputs": [
    {
     "name": "stdout",
     "output_type": "stream",
     "text": [
      "570.6835299999999\n",
      "4.945923926666666\n"
     ]
    }
   ],
   "source": [
    "n_cbiomass=0\n",
    "v_biomass = 0.52\n",
    "n_cgl = 6\n",
    "v_gl = 10 \n",
    "for met in biomass.metabolites:\n",
    "    #print(met)\n",
    "    #print(met.elements)\n",
    "    #print(-1*biomass.metabolites[met])\n",
    "    if 'C' in met.elements and biomass.metabolites[met]<0:\n",
    "        n_cbiomass += met.elements['C']*-1*biomass.metabolites[met]\n",
    "    #elif 'C' in met.elements:\n",
    "    #    print(met,biomass.metabolites[met],met.elements['C']*-1*biomass.metabolites[met])\n",
    "    #print(met.sCounthadow_price)\n",
    "    #print(met.formula_weight)\n",
    "\n",
    "Y = n_cbiomass * v_biomass/(n_cgl*v_gl)\n",
    "print(n_cbiomass)\n",
    "print(Y)"
   ]
  }
 ],
 "metadata": {
  "kernelspec": {
   "display_name": "Python 3",
   "language": "python",
   "name": "python3"
  },
  "language_info": {
   "codemirror_mode": {
    "name": "ipython",
    "version": 3
   },
   "file_extension": ".py",
   "mimetype": "text/x-python",
   "name": "python",
   "nbconvert_exporter": "python",
   "pygments_lexer": "ipython3",
   "version": "3.8.10"
  }
 },
 "nbformat": 4,
 "nbformat_minor": 4
}
